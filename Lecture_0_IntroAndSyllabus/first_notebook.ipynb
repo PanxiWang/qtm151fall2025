{
 "cells": [
  {
   "cell_type": "markdown",
   "id": "e48ccd80",
   "metadata": {},
   "source": [
    "<font size=\"5\">This is my first Jupyter notebook"
   ]
  },
  {
   "cell_type": "code",
   "execution_count": 2,
   "id": "3632ab09",
   "metadata": {},
   "outputs": [
    {
     "name": "stdout",
     "output_type": "stream",
     "text": [
      "My name is Penny Wang\n"
     ]
    }
   ],
   "source": [
    "print(\"My name is Penny Wang\")"
   ]
  }
 ],
 "metadata": {
  "kernelspec": {
   "display_name": "base",
   "language": "python",
   "name": "python3"
  },
  "language_info": {
   "codemirror_mode": {
    "name": "ipython",
    "version": 3
   },
   "file_extension": ".py",
   "mimetype": "text/x-python",
   "name": "python",
   "nbconvert_exporter": "python",
   "pygments_lexer": "ipython3",
   "version": "3.13.5"
  }
 },
 "nbformat": 4,
 "nbformat_minor": 5
}
